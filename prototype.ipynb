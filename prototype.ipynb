{
 "cells": [
  {
   "cell_type": "code",
   "execution_count": 11,
   "id": "072654c3",
   "metadata": {},
   "outputs": [],
   "source": [
    "import pandas as pd\n",
    "import numpy as np\n",
    "import ast\n",
    "from sklearn.preprocessing import MultiLabelBinarizer, MinMaxScaler\n",
    "from sklearn.feature_extraction.text import TfidfVectorizer\n",
    "from sklearn.neighbors import NearestNeighbors\n",
    "from scipy.sparse import hstack\n",
    "\n",
    "class HybridRecommender:\n",
    "    def __init__(self, path):\n",
    "        self.df = pd.read_csv(path)\n",
    "        self._prepare_data()\n",
    "        self._build_model()\n",
    "\n",
    "    def _prepare_data(self):\n",
    "        print(type(self.df['genres'][0]))\n",
    "        # Convert genre strings back to list\n",
    "        self.df['genres'] = self.df['genres'].apply(ast.literal_eval)\n",
    "\n",
    "        # TF-IDF on overview\n",
    "        self.df['overview'] = self.df['overview'].fillna(\"\")\n",
    "        self.tfidf = TfidfVectorizer(max_features=5000)\n",
    "        self.overview_vec = self.tfidf.fit_transform(self.df['overview'])\n",
    "\n",
    "        # Genre one-hot\n",
    "        mlb = MultiLabelBinarizer()\n",
    "        self.genre_vec = mlb.fit_transform(self.df['genres'])\n",
    "\n",
    "        # Numeric features\n",
    "        numeric_cols = ['popularity', 'vote_average', 'runtime']\n",
    "        for col in numeric_cols:\n",
    "            self.df[col] = pd.to_numeric(self.df[col], errors='coerce')\n",
    "        self.df[numeric_cols] = self.df[numeric_cols].fillna(0)\n",
    "\n",
    "        self.scaler = MinMaxScaler()\n",
    "        self.numeric_vec = self.scaler.fit_transform(self.df[numeric_cols])\n",
    "\n",
    "        # Combine all features\n",
    "        self.final_features = hstack([self.overview_vec, self.genre_vec, self.numeric_vec])\n",
    "\n",
    "    def _build_model(self):\n",
    "        self.nn = NearestNeighbors(metric='cosine', algorithm='brute')\n",
    "        self.nn.fit(self.final_features)\n",
    "\n",
    "    def recommend(self, title, n=5):\n",
    "        title = title.lower()\n",
    "        matches = self.df[self.df['title'].str.lower() == title]\n",
    "        if matches.empty:\n",
    "            return [\"Movie not found.\"]\n",
    "        idx = matches.index[0]\n",
    "        vec = self.final_features.getrow(idx)\n",
    "        distances, indices = self.nn.kneighbors(vec, n_neighbors=n+1)\n",
    "        return self.df.iloc[indices[0][1:]]['title'].tolist()\n"
   ]
  },
  {
   "cell_type": "code",
   "execution_count": 12,
   "id": "8866b900",
   "metadata": {},
   "outputs": [
    {
     "name": "stdout",
     "output_type": "stream",
     "text": [
      "<class 'str'>\n"
     ]
    }
   ],
   "source": [
    "recommender = HybridRecommender('updated_movie_metadeta.csv')"
   ]
  },
  {
   "cell_type": "code",
   "execution_count": 14,
   "id": "ce3532d5",
   "metadata": {},
   "outputs": [
    {
     "name": "stdout",
     "output_type": "stream",
     "text": [
      "Recommended Movies:\n",
      "- A.I. Artificial Intelligence\n",
      "- Silent Running\n",
      "- Hard to Be a God\n",
      "- Crumbs\n",
      "- The Martian\n"
     ]
    }
   ],
   "source": [
    "movie_name = \"Interstellar\"\n",
    "recommendations = recommender.recommend(movie_name, n=5)\n",
    "\n",
    "print(\"Recommended Movies:\")\n",
    "for movie in recommendations:\n",
    "    print(\"-\", movie)"
   ]
  },
  {
   "cell_type": "code",
   "execution_count": null,
   "id": "18bccc18",
   "metadata": {},
   "outputs": [],
   "source": []
  }
 ],
 "metadata": {
  "kernelspec": {
   "display_name": "Python 3 (ipykernel)",
   "language": "python",
   "name": "python3"
  },
  "language_info": {
   "codemirror_mode": {
    "name": "ipython",
    "version": 3
   },
   "file_extension": ".py",
   "mimetype": "text/x-python",
   "name": "python",
   "nbconvert_exporter": "python",
   "pygments_lexer": "ipython3",
   "version": "3.11.5"
  }
 },
 "nbformat": 4,
 "nbformat_minor": 5
}
